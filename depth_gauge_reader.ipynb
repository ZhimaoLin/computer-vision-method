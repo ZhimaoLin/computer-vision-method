{
 "cells": [
  {
   "cell_type": "markdown",
   "metadata": {},
   "source": [
    "## Import packages"
   ]
  },
  {
   "cell_type": "code",
   "execution_count": 205,
   "metadata": {},
   "outputs": [],
   "source": [
    "import cv2\n",
    "import numpy as np\n",
    "import matplotlib.pyplot as plt"
   ]
  },
  {
   "cell_type": "markdown",
   "metadata": {},
   "source": [
    "## Pre-define some colors"
   ]
  },
  {
   "cell_type": "code",
   "execution_count": 206,
   "metadata": {},
   "outputs": [],
   "source": [
    "blue = (255, 0, 0)\n",
    "green = (0, 255, 0)\n",
    "red = (0, 0, 255)"
   ]
  },
  {
   "cell_type": "markdown",
   "metadata": {},
   "source": [
    "## Helper functions"
   ]
  },
  {
   "cell_type": "code",
   "execution_count": 287,
   "metadata": {},
   "outputs": [],
   "source": [
    "def show_image(img):\n",
    "    cv2.imshow('image', img)\n",
    "    cv2.waitKey(0) \n",
    "    cv2.destroyAllWindows() \n",
    "\n",
    "\n",
    "\n",
    "def get_avg_circle(circles):\n",
    "    avg = np.average(circles[0], axis=0)\n",
    "    centerX, centerY, radius = avg\n",
    "    return int(centerX), int(centerY), int(radius)\n",
    "\n",
    "\n",
    "\n",
    "def calculate_distance_between_two_points(p1, p2):\n",
    "    x1, y1 = p1\n",
    "    x2, y2 = p2\n",
    "    return np.sqrt((x2 - x1)**2 + (y2 - y1)**2)\n",
    "\n",
    "\n",
    "# Get the distance between point p0 and a line p1 p2\n",
    "# Use the formula: Line defined by two points (https://en.wikipedia.org/wiki/Distance_from_a_point_to_a_line)\n",
    "def calcualte_distance_between_point_and_line(p1, p2, p0):\n",
    "    return np.abs(np.cross(p2-p1, p1-p0)) / calculate_distance_between_two_points(p1, p2)\n",
    "\n",
    "\n",
    "\n",
    "\n",
    "    \n",
    "\n"
   ]
  },
  {
   "cell_type": "markdown",
   "metadata": {},
   "source": [
    "## Load gauge images"
   ]
  },
  {
   "cell_type": "code",
   "execution_count": 289,
   "metadata": {},
   "outputs": [
    {
     "name": "stdout",
     "output_type": "stream",
     "text": [
      "The size of the image: Height: [2199] px, Width: [1125] px\n"
     ]
    }
   ],
   "source": [
    "image = cv2.imread('Images/gauge-1.jpg')\n",
    "height, width = image.shape[0:2]\n",
    "grayImage = cv2.cvtColor(image, cv2.COLOR_BGR2GRAY)\n",
    "\n",
    "print(f\"The size of the image: Height: [{height}] px, Width: [{width}] px\")\n",
    "\n",
    "show_image(image)"
   ]
  },
  {
   "cell_type": "markdown",
   "metadata": {},
   "source": [
    "## Detect the circle of the dial"
   ]
  },
  {
   "cell_type": "code",
   "execution_count": 290,
   "metadata": {},
   "outputs": [
    {
     "name": "stdout",
     "output_type": "stream",
     "text": [
      "[[[553.5 898.5 501. ]]]\n",
      "Detected circle: CenterX=[553], CenterY=[898], radius=[501]\n"
     ]
    }
   ],
   "source": [
    "detectCircleResult = image.copy()\n",
    "\n",
    "# dp=1 The accumulator matrix has the same size as the image\n",
    "# minDist: The minimum distance between two detected circles\n",
    "# param1: Upper threshold for the internal Canny edge detector\n",
    "# param2: The accumulator threshold for the circle centers at the detection stage\n",
    "circles = cv2.HoughCircles(grayImage, cv2.HOUGH_GRADIENT, dp=1, minDist=int(height/2), param1=100, param2=100, minRadius=int(width*0.2), maxRadius=int(height))\n",
    "\n",
    "print(circles)\n",
    "if circles is None:\n",
    "    raise Exception(\"Cannot find any circles\")\n",
    "\n",
    "\n",
    "centerX, centerY, radius = get_avg_circle(circles)\n",
    "\n",
    "# Draw the detected circle\n",
    "detectCircleResult = cv2.circle(detectCircleResult, (int(centerX), int(centerY)), int(radius), green, 2, cv2.LINE_AA)  \n",
    "# Draw the center\n",
    "detectCircleResult = cv2.circle(detectCircleResult, (int(centerX), int(centerY)), 2, green, 1, cv2.LINE_AA)  \n",
    "\n",
    "print(f\"Detected circle: CenterX=[{centerX}], CenterY=[{centerY}], radius=[{radius}]\")\n",
    "\n",
    "show_image(detectCircleResult)\n"
   ]
  },
  {
   "cell_type": "markdown",
   "metadata": {},
   "source": [
    "## Crop the image"
   ]
  },
  {
   "cell_type": "code",
   "execution_count": 291,
   "metadata": {},
   "outputs": [],
   "source": [
    "padding = -10\n",
    "upperLeft = (centerX-(radius+padding), centerY-(radius+padding))\n",
    "lowerRight = (centerX+(radius+padding), centerY+(radius+padding))\n",
    "\n",
    "\n",
    "dialImage = image[upperLeft[1] : (lowerRight[1]+1), upperLeft[0] : (lowerRight[0]+1), :]\n",
    "\n",
    "dialHeight, dialWidth = image.shape[0:2]\n",
    "\n",
    "show_image(dialImage)"
   ]
  },
  {
   "cell_type": "markdown",
   "metadata": {},
   "source": [
    "## Detect the line of the pointer"
   ]
  },
  {
   "cell_type": "code",
   "execution_count": 297,
   "metadata": {},
   "outputs": [
    {
     "name": "stdout",
     "output_type": "stream",
     "text": [
      "[array([220, 294, 513, 507], dtype=int32)]\n"
     ]
    }
   ],
   "source": [
    "detectLineResult = dialImage.copy()\n",
    "\n",
    "dialGrayImage = cv2.cvtColor(dialImage, cv2.COLOR_BGR2GRAY)\n",
    "height, width = dialGrayImage.shape\n",
    "show_image(dialGrayImage)\n",
    "\n",
    "# dialGrayImage = cv2.medianBlur(dialGrayImage, 9)\n",
    "# dialGrayImage = cv2.GaussianBlur(dialGrayImage, (5, 5), 0)\n",
    "# show_image(dialGrayImage)\n",
    "\n",
    "_, thresholdResultmage = cv2.threshold(dialGrayImage, thresh=150, maxval=255, type=cv2.THRESH_BINARY_INV)\n",
    "\n",
    "# cannyEdgeDetectionResult = cv2.Canny(dialGrayImage, threshold1=50, threshold2=200, apertureSize=3, L2gradient=True)\n",
    "\n",
    "show_image(thresholdResultmage)\n",
    "\n",
    "# rho: Distance resolution of the accumulator in pixels\n",
    "# theta: Angle resolution of the accumulator in radians\n",
    "# threshold: Accumulator threshold parameter\n",
    "# minLineLength: Minimum line length\n",
    "# maxLineGap: Maximum allowed gap between points on the same line\n",
    "lines = cv2.HoughLinesP(thresholdResultmage, rho=1, theta=np.pi/180, threshold=100, minLineLength=width//4, maxLineGap=0)\n",
    "\n",
    "# print(lines)\n",
    "if lines is None:\n",
    "    raise Exception(\"Cannot find any lines\")\n",
    "\n",
    "\n",
    "validLines = []\n",
    "distanceThreshold = 1\n",
    "for l in lines:\n",
    "    aLine = l[0]\n",
    "    p1 = np.array(aLine[:2])\n",
    "    p2 = np.array(aLine[2:])\n",
    "    p0 = np.array([width//2, height//2])\n",
    "    distance = calcualte_distance_between_point_and_line(p1, p2, p0)\n",
    "\n",
    "    if distance <= distanceThreshold:\n",
    "        validTwoPoints = np.concatenate((p1, p2))\n",
    "        validLines.append(validTwoPoints)\n",
    "\n",
    "print(validLines)\n",
    "\n",
    "  \n",
    "\n",
    "\n",
    "\n",
    "\n",
    "\n",
    "for l in validLines:\n",
    "    aLine = l\n",
    "    cv2.line(detectLineResult, (aLine[0], aLine[1]), (aLine[2], aLine[3]), green, 1, cv2.LINE_AA)\n",
    "\n",
    "show_image(detectLineResult)"
   ]
  },
  {
   "cell_type": "code",
   "execution_count": null,
   "metadata": {},
   "outputs": [],
   "source": [
    "validLine = validLines[0]\n",
    "\n",
    "x1, y1, x2, y2 = validLine\n",
    "p1 = np.array([x1, y1])\n",
    "p2 = np.array([x2, y2])\n",
    "\n",
    "centerX = width//2\n",
    "centerY = height//2\n",
    "p0 = np.array([centerX, centerY])\n",
    "\n",
    "distanceP1 = calculate_distance_between_two_points(p1, p0)\n",
    "distanceP2 = calculate_distance_between_two_points(p2, p0)\n",
    "\n",
    "p = p1\n",
    "if distanceP2 > distanceP1:\n",
    "    p = p2\n",
    "\n",
    "\n",
    "yDistanceToCenter = np.abs(p[1] - p0[1])\n",
    "\n",
    "if yDistanceToCenter == 0 and p[0] <= p0[0]:\n",
    "    print(f\"Angle: 270 degree\")\n",
    "elif yDistanceToCenter == 0 and p[0] >= p0[0]:\n",
    "    print(f\"Angle: 90 degree\")\n",
    "else:\n",
    "    distanceToBaseLine = calcualte_distance_between_point_and_line(p0, np.array([centerX, 0]))\n",
    "    \n",
    "\n",
    "\n",
    "\n"
   ]
  },
  {
   "cell_type": "code",
   "execution_count": null,
   "metadata": {},
   "outputs": [],
   "source": []
  },
  {
   "cell_type": "code",
   "execution_count": null,
   "metadata": {},
   "outputs": [],
   "source": []
  },
  {
   "cell_type": "code",
   "execution_count": null,
   "metadata": {},
   "outputs": [],
   "source": []
  },
  {
   "cell_type": "code",
   "execution_count": null,
   "metadata": {},
   "outputs": [],
   "source": []
  },
  {
   "cell_type": "code",
   "execution_count": null,
   "metadata": {},
   "outputs": [],
   "source": []
  },
  {
   "cell_type": "code",
   "execution_count": null,
   "metadata": {},
   "outputs": [],
   "source": []
  },
  {
   "cell_type": "code",
   "execution_count": 67,
   "metadata": {},
   "outputs": [
    {
     "name": "stdout",
     "output_type": "stream",
     "text": [
      "[[[ 57 149 112 145]]]\n"
     ]
    }
   ],
   "source": [
    "detectLineResult = image.copy()\n",
    "\n",
    "# threshold, result = cv2.threshold(grayImage, 200, 255, cv2.THRESH_BINARY_INV)\n",
    "\n",
    "# show_image(result)\n",
    "\n",
    "\n",
    "cannyEdgeDetectionResult = cv2.Canny(grayImage, threshold1=50, threshold2=200, apertureSize=3)\n",
    "\n",
    "show_image(cannyEdgeDetectionResult)\n",
    "\n",
    "# rho: Distance resolution of the accumulator in pixels\n",
    "# theta: Angle resolution of the accumulator in radians\n",
    "# threshold: Accumulator threshold parameter\n",
    "# minLineLength: Minimum line length\n",
    "# maxLineGap: Maximum allowed gap between points on the same line\n",
    "lines = cv2.HoughLinesP(cannyEdgeDetectionResult, rho=1, theta=np.pi/180, threshold=100, minLineLength=50, maxLineGap=5)\n",
    "\n",
    "print(lines)\n",
    "\n",
    "if lines is not None:\n",
    "    for l in lines:\n",
    "        aLine = l[0]\n",
    "        cv2.line(detectLineResult, (aLine[0], aLine[1]), (aLine[2], aLine[3]), green, 1, cv2.LINE_AA)\n",
    "\n",
    "show_image(detectLineResult)"
   ]
  }
 ],
 "metadata": {
  "kernelspec": {
   "display_name": "Python 3.9.13 64-bit",
   "language": "python",
   "name": "python3"
  },
  "language_info": {
   "codemirror_mode": {
    "name": "ipython",
    "version": 3
   },
   "file_extension": ".py",
   "mimetype": "text/x-python",
   "name": "python",
   "nbconvert_exporter": "python",
   "pygments_lexer": "ipython3",
   "version": "3.9.13"
  },
  "orig_nbformat": 4,
  "vscode": {
   "interpreter": {
    "hash": "11938c6bc6919ae2720b4d5011047913343b08a43b18698fd82dedb0d4417594"
   }
  }
 },
 "nbformat": 4,
 "nbformat_minor": 2
}
